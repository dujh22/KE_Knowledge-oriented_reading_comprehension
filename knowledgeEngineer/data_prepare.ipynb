{
 "cells": [
  {
   "cell_type": "code",
   "execution_count": 1,
   "outputs": [],
   "source": [
    "import json\n",
    "import re"
   ],
   "metadata": {
    "collapsed": false
   }
  },
  {
   "cell_type": "code",
   "execution_count": null,
   "outputs": [],
   "source": [
    "temp_name1 = \"KoRC_H\"\n",
    "temp_name2 = \"KoRC-H\"\n",
    "file_name = \"train.json\"\n",
    "with open(\"./ke/ood_test_\" + temp_name1 + \".json\", 'w', encoding='utf-8') as w:\n",
    "    with open(file_name, 'r', encoding='utf-8') as ri:\n",
    "        d_list = json.load(ri)\n",
    "        for item in d_list:\n",
    "            id = item['id']\n",
    "            title = item['title']\n",
    "            context = item['passage']\n",
    "            question = item['question'][temp_name2]\n",
    "            answers = []\n",
    "            answers.append(item['answers'][0])\n",
    "            answer_starts = []\n",
    "            try:\n",
    "                question_s = (re.findall(r'\\[.*?\\]', context)[0]).strip(\"[]\")\n",
    "                answer_starts_temp = context.find(question_s)\n",
    "            except:\n",
    "                answer_starts_temp = -1\n",
    "            answer_starts.append(answer_starts_temp)\n"
   ],
   "metadata": {
    "collapsed": false
   }
  }
 ],
 "metadata": {
  "kernelspec": {
   "display_name": "Python 3",
   "language": "python",
   "name": "python3"
  },
  "language_info": {
   "codemirror_mode": {
    "name": "ipython",
    "version": 2
   },
   "file_extension": ".py",
   "mimetype": "text/x-python",
   "name": "python",
   "nbconvert_exporter": "python",
   "pygments_lexer": "ipython2",
   "version": "2.7.6"
  }
 },
 "nbformat": 4,
 "nbformat_minor": 0
}
