{
 "cells": [
  {
   "cell_type": "code",
   "execution_count": null,
   "metadata": {},
   "outputs": [
    {
     "ename": "",
     "evalue": "",
     "output_type": "error",
     "traceback": [
      "\u001b[1;31m运行具有“py36_KB”的单元格需要ipykernel包。\n",
      "\u001b[1;31mRun the following command to install 'ipykernel' into the Python environment. \n",
      "\u001b[1;31mCommand: 'conda install -n py36_KB ipykernel --update-deps --force-reinstall'"
     ]
    }
   ],
   "source": [
    "with open('questions_iid.txt','r') as fp:\n",
    "    dict=fp.read() "
   ]
  }
 ],
 "metadata": {
  "kernelspec": {
   "display_name": "py36_KB",
   "language": "python",
   "name": "python3"
  },
  "language_info": {
   "name": "python",
   "version": "3.6.13"
  },
  "orig_nbformat": 4
 },
 "nbformat": 4,
 "nbformat_minor": 2
}
